{
 "cells": [
  {
   "cell_type": "code",
   "execution_count": 122,
   "metadata": {},
   "outputs": [],
   "source": [
    "from scipy.optimize import fsolve\n",
    "import numpy as np\n",
    "from matplotlib import pyplot as plt"
   ]
  },
  {
   "cell_type": "code",
   "execution_count": 39,
   "metadata": {},
   "outputs": [],
   "source": [
    "from matplotlib import rc\n",
    "rc('font',**{'family':'serif','serif':['Times']})\n",
    "rc('text', usetex=True)\n",
    "plt.rcParams['xtick.labelsize']=20\n",
    "plt.rcParams['ytick.labelsize']=20\n",
    "plt.rcParams['font.size']=20"
   ]
  },
  {
   "cell_type": "markdown",
   "metadata": {},
   "source": [
    "### Free energy expression for the pure protein"
   ]
  },
  {
   "cell_type": "markdown",
   "metadata": {},
   "source": [
    "For just the protein without SE DNA:\n",
    "\n",
    "$f(\\phi_p) = \\rho_P(\\phi_P-\\alpha)^2(\\phi_P-\\beta)^2$\n",
    "\n",
    "For just the protein with SE DNA:\n",
    "\n",
    "$f(\\phi_p) = \\rho_P(\\phi_P-\\alpha)^2(\\phi_P-\\beta)^2 - ce^{-r^2/\\sigma^2}$"
   ]
  },
  {
   "cell_type": "code",
   "execution_count": 123,
   "metadata": {},
   "outputs": [],
   "source": [
    "class protein_FE:\n",
    "    \"\"\"\n",
    "    Class that defines the free energy of the protein-solvent system in the presence and absence of SE DNA\n",
    "    Absence of SE DNA: set self.c = 0\n",
    "    Presence of SE DNA: set self.c = non-zero\n",
    "    \"\"\"\n",
    "    \n",
    "    def __init__(self, params):\n",
    "        \"\"\"\n",
    "        Initialize parameters associate with the above free energy expression\n",
    "        \"\"\"\n",
    "        self.phi_p_low = params['phi_p_low']\n",
    "        self.phi_p_hi = params['phi_p_hi']\n",
    "        self.rho_p = params['rho_p']\n",
    "        self.alpha = params['alpha']\n",
    "        self.beta = params['beta']\n",
    "        self.c = params['c']\n",
    "        self.sigma = params['sigma']\n",
    "        self.spinodal_concs = self._get_spinodal_boundary()\n",
    "\n",
    "    def mu_p(self, phi_p, r):\n",
    "        \"\"\"\n",
    "        Return chemical potential as a function of phi_p\n",
    "        \"\"\"\n",
    "        return 4*self.rho_p*(phi_p-self.alpha)*(phi_p-self.beta)*(phi_p-0.5*(self.alpha+self.beta))  \\\n",
    "                - self.c*np.exp(-r**2/self.sigma**2)\n",
    "    \n",
    "    def _dmu_p_dphi_p(self, phi_p):\n",
    "        \"\"\"\n",
    "        Function to compute the second derivative of the free energy with respect to phi_p\n",
    "        \"\"\"\n",
    "        return 2*self.rho_p*(6*phi_p**2 - 6*phi_p*(self.alpha+self.beta) + self.alpha**2 + self.beta**2 \n",
    "                             + 4*self.alpha*self.beta)\n",
    "    \n",
    "    def _get_spinodal_boundary(self):\n",
    "        \"\"\"\n",
    "        Function the calculates the upper and lower concentrations bounds of the spinodal region\n",
    "        \"\"\"\n",
    "        lower_bound_conc = fsolve(self._dmu_p_dphi_p, (self.phi_p_low,))\n",
    "        upper_bound_conc = fsolve(self._dmu_p_dphi_p, (self.phi_p_hi,))\n",
    "        return (lower_bound_conc, upper_bound_conc)"
   ]
  },
  {
   "cell_type": "code",
   "execution_count": 126,
   "metadata": {},
   "outputs": [
    {
     "data": {
      "image/png": "[encoded data removed]",
      "text/plain": [
       "<Figure size 432x360 with 1 Axes>"
      ]
     },
     "metadata": {
      "needs_background": "light"
     },
     "output_type": "display_data"
    }
   ],
   "source": [
    "fig, axs = plt.subplots(1,1,figsize=(6,5))\n",
    "\n",
    "params = {\n",
    "    'phi_p_low': 0.0,\n",
    "    'phi_p_hi': 0.7,\n",
    "    'rho_p': 3.0,\n",
    "    'alpha': 0.2,\n",
    "    'beta': 0.6,\n",
    "    'c': 0.0,\n",
    "    'sigma': 5.0\n",
    "    }\n",
    "\n",
    "FE = protein_FE(params)\n",
    "\n",
    "# Plotting the chemical potential\n",
    "n_points = 100\n",
    "phi_range = np.linspace(params['phi_p_low'], params['phi_p_hi'], n_points)\n",
    "axs.plot(phi_range, FE.mu_p(phi_range, r=0.0), label=r'$r \\rightarrow \\infty$')\n",
    "\n",
    "params = {\n",
    "    'phi_p_low': 0.00,\n",
    "    'phi_p_hi': 0.7,\n",
    "    'rho_p': 3.0,\n",
    "    'alpha': 0.2,\n",
    "    'beta': 0.6,\n",
    "    'c': 0.2,\n",
    "    'sigma': 5.0\n",
    "    }\n",
    "\n",
    "FE = protein_FE(params)\n",
    "\n",
    "# Plotting the chemical potential\n",
    "n_points = 100\n",
    "phi_range = np.linspace(params['phi_p_low'], params['phi_p_hi'], n_points)\n",
    "axs.plot(phi_range, FE.mu_p(phi_range, r=0.0), label=r'$r = 0 $')\n",
    "\n",
    "axs.set_xlabel(r'$\\phi_P$')\n",
    "axs.set_ylabel(r'$\\mu_P(\\phi_P)$')\n",
    "axs.legend()\n",
    "\n",
    "plt.savefig('Figures for paper/chemical_potential_at_different_r.svg', format='svg', dpi=600)"
   ]
  },
  {
   "cell_type": "markdown",
   "metadata": {},
   "source": [
    "### Flory Huggins expression for free energy of the protein-solvent system"
   ]
  },
  {
   "cell_type": "markdown",
   "metadata": {},
   "source": [
    "For just the protein without SE DNA:\n",
    "\n",
    "$f(\\phi_p) = \\frac{\\phi_P}{N_P}\\log(\\phi_p) + (1-\\phi_P)\\log(1-\\phi_p) - \\chi_P\\phi_P^2$\n",
    "\n",
    "For just the protein with SE DNA:\n",
    "\n",
    "$f(\\phi_p) = \\frac{\\phi_P}{N_P}\\log(\\phi_p) + (1-\\phi_P)\\log(1-\\phi_p) - \\chi_P\\phi_P^2 - ce^{-r^2/\\sigma^2}$"
   ]
  },
  {
   "cell_type": "code",
   "execution_count": 167,
   "metadata": {},
   "outputs": [],
   "source": [
    "class protein_FE_FH:\n",
    "    \"\"\"\n",
    "    Class that defines the free energy of the protein-solvent system in the presence and absence of SE DNA\n",
    "    Absence of SE DNA: set self.c = 0\n",
    "    Presence of SE DNA: set self.c = non-zero\n",
    "    \"\"\"\n",
    "    \n",
    "    def __init__(self, params):\n",
    "        \"\"\"\n",
    "        Initialize parameters associate with the above free energy expression\n",
    "        \"\"\"\n",
    "        self.phi_p_low = params['phi_p_low']\n",
    "        self.phi_p_hi = params['phi_p_hi']\n",
    "        self.N_P = params['N_P']\n",
    "        self.chi_p = params['chi_p']\n",
    "        self.c = params['c']\n",
    "        self.sigma = params['sigma']\n",
    "        self.spinodal_concs = self._get_spinodal_boundary()\n",
    "\n",
    "    def mu_p(self, phi_p, r):\n",
    "        \"\"\"\n",
    "        Return chemical potential as a function of phi_p\n",
    "        \"\"\"\n",
    "        return ((1.0+np.log(phi_p))/self.N_P - (1.0+np.log(1.0-phi_p)) - 2*self.chi_p*phi_p\n",
    "                - self.c*np.exp(-r**2/self.sigma**2))\n",
    "    \n",
    "    def _dmu_p_dphi_p(self, phi_p):\n",
    "        \"\"\"\n",
    "        Function to compute the second derivative of the free energy with respect to phi_p\n",
    "        \"\"\"\n",
    "        return 1.0/(self.N_P*phi_p) + 1.0/(1.0-phi_p) - 2.0*self.chi_p\n",
    "    \n",
    "    def _get_spinodal_boundary(self):\n",
    "        \"\"\"\n",
    "        Function the calculates the upper and lower concentrations bounds of the spinodal region\n",
    "        \"\"\"\n",
    "        lower_bound_conc = fsolve(self._dmu_p_dphi_p, (self.phi_p_low,))\n",
    "        upper_bound_conc = fsolve(self._dmu_p_dphi_p, (self.phi_p_hi,))\n",
    "        return (lower_bound_conc, upper_bound_conc)"
   ]
  },
  {
   "cell_type": "code",
   "execution_count": 172,
   "metadata": {},
   "outputs": [
    {
     "data": {
      "image/png": "[encoded data removed]",
      "text/plain": [
       "<Figure size 432x360 with 1 Axes>"
      ]
     },
     "metadata": {
      "needs_background": "light"
     },
     "output_type": "display_data"
    }
   ],
   "source": [
    "fig, axs = plt.subplots(1,1,figsize=(6,5))\n",
    "\n",
    "params = {\n",
    "    'phi_p_low': 0.05,\n",
    "    'phi_p_hi': 0.6,\n",
    "    'N_P': 5.0,\n",
    "    'chi_p': 1.1,\n",
    "    'c': 0.0,\n",
    "    'sigma': 5.0\n",
    "    }\n",
    "\n",
    "FE = protein_FE_FH(params)\n",
    "\n",
    "# Plotting the chemical potential\n",
    "n_points = 100\n",
    "phi_range = np.linspace(params['phi_p_low'], params['phi_p_hi'], n_points)\n",
    "axs.plot(phi_range, FE.mu_p(phi_range, r=0.0), label=r'$r \\rightarrow \\infty$')\n",
    "\n",
    "params = {\n",
    "    'phi_p_low': 0.05,\n",
    "    'phi_p_hi': 0.6,\n",
    "    'N_P': 5.0,\n",
    "    'chi_p': 1.1,\n",
    "    'c': 0.05,\n",
    "    'sigma': 5.0\n",
    "    }\n",
    "\n",
    "\n",
    "FE = protein_FE_FH(params)\n",
    "\n",
    "# Plotting the chemical potential\n",
    "n_points = 100\n",
    "phi_range = np.linspace(params['phi_p_low'], params['phi_p_hi'], n_points)\n",
    "axs.plot(phi_range, FE.mu_p(phi_range, r=0.0), label=r'$r = 0 $')\n",
    "\n",
    "axs.set_xlabel(r'$\\phi_P$')\n",
    "axs.set_ylabel(r'$\\mu_P(\\phi_P)$')\n",
    "axs.legend()\n",
    "\n",
    "plt.savefig('Figures for paper/FH_chemical_potential_at_different_r.svg', format='svg', dpi=600)"
   ]
  },
  {
   "cell_type": "code",
   "execution_count": 173,
   "metadata": {},
   "outputs": [
    {
     "data": {
      "text/plain": [
       "(array([0.21654236]), array([0.41982127]))"
      ]
     },
     "execution_count": 173,
     "metadata": {},
     "output_type": "execute_result"
    }
   ],
   "source": [
    "FE.spinodal_concs"
   ]
  }
 ],
 "metadata": {
  "kernelspec": {
   "display_name": "Python 2",
   "language": "python",
   "name": "python2"
  },
  "language_info": {
   "codemirror_mode": {
    "name": "ipython",
    "version": 2
   },
   "file_extension": ".py",
   "mimetype": "text/x-python",
   "name": "python",
   "nbconvert_exporter": "python",
   "pygments_lexer": "ipython2",
   "version": "2.7.15"
  }
 },
 "nbformat": 4,
 "nbformat_minor": 2
}
